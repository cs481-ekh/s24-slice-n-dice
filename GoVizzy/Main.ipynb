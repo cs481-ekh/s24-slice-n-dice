{
 "cells": [
  {
   "cell_type": "code",
   "execution_count": null,
   "id": "9086237b-dffa-4bd5-aaa6-08adb664f040",
   "metadata": {},
   "outputs": [],
   "source": [
    "pip install ipywidgets\n"
   ]
  },
  {
   "cell_type": "code",
   "execution_count": null,
   "id": "fbb8b9c8-3684-4c8a-b6a3-08bbb649b6df",
   "metadata": {},
   "outputs": [],
   "source": [
    "#import ipyvolume as ipv\n",
    "#import numpy as np\n",
    "import fileInput\n"
   ]
  },
  {
   "cell_type": "code",
   "execution_count": null,
   "id": "2135d9d3-f8a8-42ad-a4d5-98bf98494533",
   "metadata": {},
   "outputs": [],
   "source": [
    "run fileInput.py"
   ]
  },
  {
   "cell_type": "code",
   "execution_count": null,
   "id": "c03066f5-e7b1-49ec-ac1f-8a12048261ca",
   "metadata": {},
   "outputs": [],
   "source": []
  }
 ],
 "metadata": {
  "kernelspec": {
   "display_name": "Python 3 (ipykernel)",
   "language": "python",
   "name": "python3"
  },
  "language_info": {
   "codemirror_mode": {
    "name": "ipython",
    "version": 3
   },
   "file_extension": ".py",
   "mimetype": "text/x-python",
   "name": "python",
   "nbconvert_exporter": "python",
   "pygments_lexer": "ipython3",
   "version": "3.12.1"
  }
 },
 "nbformat": 4,
 "nbformat_minor": 5
}
