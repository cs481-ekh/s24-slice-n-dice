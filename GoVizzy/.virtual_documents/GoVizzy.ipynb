


%run Main.py
%matplotlib widget




