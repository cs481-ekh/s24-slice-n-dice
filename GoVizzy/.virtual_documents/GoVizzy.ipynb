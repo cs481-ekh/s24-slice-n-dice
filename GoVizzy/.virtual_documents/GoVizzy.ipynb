


from widgets import form, test_slider
from GoVizzy import plotting, meshes
from UI import DisplayUI
import fileInput
import ipyvolume as ipv
import scipy
import numpy as np
from cube_viskit import Cube
import itertools




%run Main.py


# Load Cube File
cube: Cube = Cube()
cube.load_cube("data/rhopol.cube")
visualizer = plotting.Visualizer(cube)
# Display Cube File
visualizer.display_cell()
origin = (50, 50, 50)
radius = 10
meshes.plot_sphere_surface(origin, radius)


form






