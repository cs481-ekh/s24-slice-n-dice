{
 "cells": [
  {
   "cell_type": "code",
   "execution_count": 9,
   "id": "09026008-ce47-49d7-9fca-4b7c123022d1",
   "metadata": {},
   "outputs": [
    {
     "name": "stdout",
     "output_type": "stream",
     "text": [
      "Loading data/rhopol.cube ...\n",
      "Done.\n"
     ]
    },
    {
     "data": {
      "text/plain": [
       "'data/rhopol.cube'"
      ]
     },
     "execution_count": 9,
     "metadata": {},
     "output_type": "execute_result"
    }
   ],
   "source": [
    "import ipyvolume as ipv\n",
    "import numpy as np\n",
    "import cube_viskit as cv\n",
    "new_cube = cv.Cube()\n",
    "new_cube.load_cube(\"data/rhopol.cube\")\n",
    "new_cube.data3D"
   ]
  },
  {
   "cell_type": "code",
   "execution_count": null,
   "id": "f2fff55d",
   "metadata": {},
   "outputs": [],
   "source": []
  },
  {
   "cell_type": "code",
   "execution_count": null,
   "id": "d3c1cfdd",
   "metadata": {},
   "outputs": [],
   "source": []
  }
 ],
 "metadata": {
  "kernelspec": {
   "display_name": "Python 3 (ipykernel)",
   "language": "python",
   "name": "python3"
  },
  "language_info": {
   "codemirror_mode": {
    "name": "ipython",
    "version": 3
   },
   "file_extension": ".py",
   "mimetype": "text/x-python",
   "name": "python",
   "nbconvert_exporter": "python",
   "pygments_lexer": "ipython3",
   "version": "3.11.4"
  }
 },
 "nbformat": 4,
 "nbformat_minor": 5
}
