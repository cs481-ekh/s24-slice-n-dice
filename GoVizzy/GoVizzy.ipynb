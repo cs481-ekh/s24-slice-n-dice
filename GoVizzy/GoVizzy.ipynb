{
 "cells": [
  {
   "cell_type": "markdown",
   "id": "5c37196d-992b-419b-b816-16b946be36c2",
   "metadata": {},
   "source": [
    "<details>\n",
    "<summary>About GoVizzy</summary>\n",
    "\n",
    "GoVizzy provides 3D visualizations of atoms and molecules from .cube files.\n",
    "\n",
    "You can find documentation for GoVizzy in the docs/ folder.\n",
    "\n",
    "GoVizzy was developed as a Computer Science Senior Design Project (SDP) at Boise State University.\n",
    "\n",
    "Authors:\n",
    " - Brayden Thompson\n",
    " - Digno Teogalbo\n",
    " - Matthew Oberg\n",
    " - Rylie Walsh\n",
    "</details>"
   ]
  },
  {
   "cell_type": "code",
   "execution_count": 1,
   "id": "09026008-ce47-49d7-9fca-4b7c123022d1",
   "metadata": {},
   "outputs": [
    {
     "name": "stderr",
     "output_type": "stream",
     "text": [
      "/mnt/d/Documents/GoVizzy/s24-slice-n-dice/.venv/lib/python3.11/site-packages/pandas/core/arrays/masked.py:60: UserWarning: Pandas requires version '1.3.6' or newer of 'bottleneck' (version '1.3.5' currently installed).\n",
      "  from pandas.core import (\n"
     ]
    },
    {
     "data": {
      "application/vnd.jupyter.widget-view+json": {
       "model_id": "9c1c4da74c5e45ebbd1e0cf73c8c6f87",
       "version_major": 2,
       "version_minor": 0
      },
      "text/plain": [
       "AppLayout(children=(HBox(children=(Button(button_style='danger', description='[X]', layout=Layout(margin='0 0 �"
      ]
     },
     "metadata": {},
     "output_type": "display_data"
    }
   ],
   "source": [
    "from widgets import form, test_slider\n",
    "from GoVizzy import plotting, meshes\n",
    "from UI import DisplayUI\n",
    "import fileInput\n",
    "import ipyvolume as ipv\n",
    "import numpy as np\n",
    "from cube_viskit import Cube\n",
    "import itertools"
   ]
  },
  {
   "cell_type": "code",
   "execution_count": 1,
   "id": "67faad66-2beb-4746-b0a4-21689ddc78d3",
   "metadata": {},
   "outputs": [
    {
     "data": {
      "application/vnd.jupyter.widget-view+json": {
       "model_id": "0e726288d9a94b7490108b39f2bac979",
       "version_major": 2,
       "version_minor": 0
      },
      "text/plain": [
       "AppLayout(children=(HBox(children=(Button(button_style='danger', description='[X]', layout=Layout(margin='0 0 …"
      ]
     },
     "metadata": {},
     "output_type": "display_data"
    },
    {
     "data": {
      "application/vnd.jupyter.widget-view+json": {
       "model_id": "126f7927239f487f9c864701be943c96",
       "version_major": 2,
       "version_minor": 0
      },
      "text/plain": [
       "HBox(children=(Text(value='', description='File Name:'), Button(description='Submit', style=ButtonStyle())), l…"
      ]
     },
     "metadata": {},
     "output_type": "display_data"
    }
   ],
   "source": [
    "\n",
    "\n",
    "%run Main.py"
   ]
  },
  {
   "cell_type": "code",
   "execution_count": 18,
   "id": "ef52d91c-9d81-41db-953b-78f7ef718f24",
   "metadata": {},
   "outputs": [
    {
     "name": "stdout",
     "output_type": "stream",
     "text": [
      "Loading data/rhopol.cube ...\n",
      "Done.\n"
     ]
    },
    {
     "data": {
      "application/vnd.jupyter.widget-view+json": {
       "model_id": "d55b62f3bc1246d59178a47ba3fe83d0",
       "version_major": 2,
       "version_minor": 0
      },
      "text/plain": [
       "Container(children=[VBox(children=(HBox(children=(Label(value='levels:'), FloatSlider(value=0.03, max=1.0, ste�"
      ]
     },
     "metadata": {},
     "output_type": "display_data"
    }
   ],
   "source": [
    "# Load Cube File\n",
    "cube: Cube = Cube()\n",
    "cube.load_cube(\"data/rhopol.cube\")\n",
    "visualizer = plotting.Visualizer(cube)\n",
    "# Display Cube File\n",
    "visualizer.display_cell()\n",
    "origin = (50, 50, 50)\n",
    "radius = 10\n",
    "meshes.plot_sphere_surface(origin, radius)"
   ]
  },
  {
   "cell_type": "code",
   "execution_count": 6,
   "id": "863d988e-36c3-463b-9b3f-d68e27ceb757",
   "metadata": {},
   "outputs": [
    {
     "data": {
      "application/vnd.jupyter.widget-view+json": {
       "model_id": "b7c37980c359447188ef4fb14cece17b",
       "version_major": 2,
       "version_minor": 0
      },
      "text/plain": [
       "Box(children=(Box(children=(Label(value='Path to .cube file'), Textarea(value='')), layout=Layout(display='fle�"
      ]
     },
     "execution_count": 6,
     "metadata": {},
     "output_type": "execute_result"
    }
   ],
   "source": [
    "form"
   ]
  },
  {
   "cell_type": "code",
   "execution_count": null,
   "id": "9c03262a-288d-45e2-b5df-96a191097c9e",
   "metadata": {},
   "outputs": [],
   "source": []
  }
 ],
 "metadata": {
  "kernelspec": {
   "display_name": "Python 3 (ipykernel)",
   "language": "python",
   "name": "python3"
  },
  "language_info": {
   "codemirror_mode": {
    "name": "ipython",
    "version": 3
   },
   "file_extension": ".py",
   "mimetype": "text/x-python",
   "name": "python",
   "nbconvert_exporter": "python",
   "pygments_lexer": "ipython3",

   "version": "3.12.2"

  }
 },
 "nbformat": 4,
 "nbformat_minor": 5
}
