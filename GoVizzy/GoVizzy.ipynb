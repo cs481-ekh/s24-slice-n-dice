{
 "cells": [
  {
   "cell_type": "markdown",
   "id": "5c37196d-992b-419b-b816-16b946be36c2",
   "metadata": {},
   "source": [
    "<details>\n",
    "<summary>About GoVizzy</summary>\n",
    "<center>\n",
    "    <br/><br/>\n",
    "    This project was created for a<br/><br/>\n",
    "    Boise State University<br/>\n",
    "    Computer Science Senior Design Project<br/><br/>by\n",
    "    <div>Digno Teogalbo</div>\n",
    "    <div>Brayden Thompson</div>\n",
    "    <div>Rylie Walsh</div>\n",
    "    <div>Matthew Oberg</div>\n",
    "    <br/>For information about sponsoring a project go to<br/>\n",
    "    <a href=\"https://www.boisestate.edu/coen-cs/community/cs481-senior-design-project/\">https://www.boisestate.edu/coen-cs/community/cs481-senior-design-project/</a><br/>\n",
    "    <img src=\"gv_ui/sdp-logo.png\" alt=\"senior design project logo\" width=\"20%\" height=\"20%\">\n",
    "</center>\n",
    "</details>"
   ]
  },
  {
   "cell_type": "code",
   "execution_count": 1,
   "id": "c31b2aca",
   "metadata": {
    "scrolled": true
   },
   "outputs": [
    {
     "data": {
      "application/vnd.jupyter.widget-view+json": {
       "model_id": "f6d32a4b0c5d4b438988d61cf1eb68d8",
       "version_major": 2,
       "version_minor": 0
      },
      "text/plain": [
       "AppLayout(children=(HBox(children=(Output(layout=Layout(height='100%', width='70%')), VBox(children=(HBox(chil…"
      ]
     },
     "metadata": {},
     "output_type": "display_data"
    },
    {
     "data": {
      "application/vnd.jupyter.widget-view+json": {
       "model_id": "8a876746a88e4ccdbe8f1757e0e993b2",
       "version_major": 2,
       "version_minor": 0
      },
      "text/plain": [
       "HBox(children=(Text(value='', description='File Name:'), Button(description='Submit', style=ButtonStyle())), l…"
      ]
     },
     "metadata": {},
     "output_type": "display_data"
    }
   ],
   "source": [
    "%run Main.py\n",
    "%matplotlib widget\n"
   ]
  },
  {
   "cell_type": "code",
   "execution_count": null,
   "id": "d3249bf7-7b2d-4e2d-bf95-d9cb12a45992",
   "metadata": {},
   "outputs": [],
   "source": []
  }
 ],
 "metadata": {
  "kernelspec": {
   "display_name": "Python 3 (ipykernel)",
   "language": "python",
   "name": "python3"
  },
  "language_info": {
   "codemirror_mode": {
    "name": "ipython",
    "version": 3
   },
   "file_extension": ".py",
   "mimetype": "text/x-python",
   "name": "python",
   "nbconvert_exporter": "python",
   "pygments_lexer": "ipython3",
   "version": "3.10.13"
  }
 },
 "nbformat": 4,
 "nbformat_minor": 5
}
