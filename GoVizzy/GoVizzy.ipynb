{
 "cells": [
  {
   "cell_type": "markdown",
   "id": "5c37196d-992b-419b-b816-16b946be36c2",
   "metadata": {},
   "source": [
    "<details>\n",
    "<summary>About GoVizzy</summary>\n",
    "<center>\n",
    "    <br/><br/>\n",
    "    This project was created for a<br/><br/>\n",
    "    Boise State University<br/>\n",
    "    Computer Science Senior Design Project<br/><br/>by\n",
    "    <div>Digno Teogalbo</div>\n",
    "    <div>Brayden Thompson</div>\n",
    "    <div>Rylie Walsh</div>\n",
    "    <div>Matthew Oberg</div>\n",
    "    <br/>For information about sponsoring a project go to<br/>\n",
    "    <a href=\"https://www.boisestate.edu/coen-cs/community/cs481-senior-design-project/\">https://www.boisestate.edu/coen-cs/community/cs481-senior-design-project/</a><br/>\n",
    "    <img src=\"gv_ui/sdp-logo.png\" alt=\"senior design project logo\" width=\"20%\" height=\"20%\">\n",
    "</center>\n",
    "</details>"
   ]
  },
  {
   "cell_type": "code",
   "execution_count": null,
   "id": "c31b2aca",
   "metadata": {
    "scrolled": true
   },
   "outputs": [],
   "source": [
    "%run Main.py\n",
    "%matplotlib widget\n"
   ]
  }
 ],
 "metadata": {
  "kernelspec": {
   "display_name": "Python 3 (ipykernel)",
   "language": "python",
   "name": "python3"
  },
  "language_info": {
   "codemirror_mode": {
    "name": "ipython",
    "version": 3
   },
   "file_extension": ".py",
   "mimetype": "text/x-python",
   "name": "python",
   "nbconvert_exporter": "python",
   "pygments_lexer": "ipython3",
   "version": "3.12.2"
  }
 },
 "nbformat": 4,
 "nbformat_minor": 5
}
