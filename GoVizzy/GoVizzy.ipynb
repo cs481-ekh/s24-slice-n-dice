{
 "cells": [
  {
   "cell_type": "code",
   "execution_count": null,
   "id": "09026008-ce47-49d7-9fca-4b7c123022d1",
   "metadata": {},
   "outputs": [],
   "source": [
    "from widgets import form, test_slider\n",
    "import ipyvolume as ipv\n",
    "import numpy as np\n",
    "import cube_viskit as cv\n",
    "\n",
    "form"
   ]
  },
  {
   "cell_type": "code",
   "execution_count": null,
   "id": "67faad66-2beb-4746-b0a4-21689ddc78d3",
   "metadata": {},
   "outputs": [],
   "source": [
    "# When testing, we can manually set slider values in code\n",
    "test_slider.value = 5.5"
   ]
  },
  {
   "cell_type": "code",
   "execution_count": null,
   "id": "902364a9-346d-479b-a534-f6f1d3e2727d",
   "metadata": {},
   "outputs": [],
   "source": [
    "test_slider.value"
   ]
  },
  {
   "cell_type": "code",
   "execution_count": null,
   "id": "3f68260e-7da3-4252-a9cd-91dc1ebdb301",
   "metadata": {},
   "outputs": [],
   "source": []
  }
 ],
 "metadata": {
  "kernelspec": {
   "display_name": "Python 3 (ipykernel)",
   "language": "python",
   "name": "python3"
  },
  "language_info": {
   "codemirror_mode": {
    "name": "ipython",
    "version": 3
   },
   "file_extension": ".py",
   "mimetype": "text/x-python",
   "name": "python",
   "nbconvert_exporter": "python",
   "pygments_lexer": "ipython3",
   "version": "3.8.10"
  }
 },
 "nbformat": 4,
 "nbformat_minor": 5
}
