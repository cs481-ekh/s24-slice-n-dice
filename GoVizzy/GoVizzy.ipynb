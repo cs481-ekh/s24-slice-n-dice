{
 "cells": [
  {
   "cell_type": "markdown",
   "id": "5c37196d-992b-419b-b816-16b946be36c2",
   "metadata": {},
   "source": [
    "<details>\n",
    "<summary>About GoVizzy</summary>\n",
    "<center>\n",
    "    <br/><br/>\n",
    "    This project was created for a<br/><br/>\n",
    "    Boise State University<br/>\n",
    "    Computer Science Senior Design Project<br/><br/>by\n",
    "    <div>Digno Teogalbo</div>\n",
    "    <div>Brayden Thompson</div>\n",
    "    <div>Rylie Walsh</div>\n",
    "    <div>Matthew Oberg</div>\n",
    "    <br/>For information about sponsoring a project go to<br/>\n",
    "    <a href=\"https://www.boisestate.edu/coen-cs/community/cs481-senior-design-project/\">https://www.boisestate.edu/coen-cs/community/cs481-senior-design-project/</a><br/>\n",
    "    <img src=\"gv_ui/sdp-logo.png\" alt=\"senior design project logo\" width=\"20%\" height=\"20%\">\n",
    "</center>\n",
    "</details>"
   ]
  },
  {
   "cell_type": "code",
   "execution_count": 10,
   "id": "c31b2aca",
   "metadata": {},
   "outputs": [
    {
     "data": {
      "application/vnd.jupyter.widget-view+json": {
       "model_id": "d7189116400841cbbbfc404694f1c40d",
       "version_major": 2,
       "version_minor": 0
      },
      "text/plain": [
       "AppLayout(children=(HBox(children=(Output(layout=Layout(height='100%', width='70%')), VBox(children=(HBox(chil…"
      ]
     },
     "metadata": {},
     "output_type": "display_data"
    },
    {
     "data": {
      "application/vnd.jupyter.widget-view+json": {
       "model_id": "fd9f5d00137f443890d1403c39779c3a",
       "version_major": 2,
       "version_minor": 0
      },
      "text/plain": [
       "HBox(children=(Text(value='', description='File Name:'), Button(description='Submit', style=ButtonStyle())), l…"
      ]
     },
     "metadata": {},
     "output_type": "display_data"
    },
    {
     "data": {
      "application/vnd.jupyter.widget-view+json": {
       "model_id": "60ad0fddab5c4cf8a43e9d254e83df96",
       "version_major": 2,
       "version_minor": 0
      },
      "image/png": "[encoded data removed]",
      "text/html": [
       "\n",
       "            <div style=\"display: inline-block;\">\n",
       "                <div class=\"jupyter-widgets widget-label\" style=\"text-align: center;\">\n",
       "                    Figure 3\n",
       "                </div>\n",
       "                <img src='data:image/png;base64,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' width=200.0/>\n",
       "            </div>\n",
       "        "
      ],
      "text/plain": [
       "Canvas(toolbar=Toolbar(toolitems=[('Home', 'Reset original view', 'home', 'home'), ('Back', 'Back to previous …"
      ]
     },
     "metadata": {},
     "output_type": "display_data"
    }
   ],
   "source": [
    "%run Main.py\n"
   ]
  },
  {
   "cell_type": "code",
   "execution_count": 9,
   "id": "c75f164c-2d9f-44b9-8875-82d7f34a7d4e",
   "metadata": {
    "scrolled": true
   },
   "outputs": [
    {
     "name": "stdout",
     "output_type": "stream",
     "text": [
      "Loading data/rhopol.cube ...\n",
      "Done.\n"
     ]
    },
    {
     "data": {
      "application/vnd.jupyter.widget-view+json": {
       "model_id": "9fdecfe4725742629baefdbe6604534e",
       "version_major": 2,
       "version_minor": 0
      },
      "text/plain": [
       "interactive(children=(IntSlider(value=70, description='w', max=119), Output()), _dom_classes=('widget-interact…"
      ]
     },
     "metadata": {},
     "output_type": "display_data"
    },
    {
     "data": {
      "text/plain": [
       "<function __main__.update(w=0)>"
      ]
     },
     "execution_count": 9,
     "metadata": {},
     "output_type": "execute_result"
    }
   ],
   "source": [
    "%matplotlib widget\n",
    "from ipywidgets import *\n",
    "import matplotlib.pyplot as plt\n",
    "import numpy as np\n",
    "import cube_viskit as cv\n",
    "\n",
    "plt.style.use('_mpl-gallery-nogrid')\n",
    "\n",
    "cube = cv.Cube()\n",
    "cube.load_cube(\"data/rhopol.cube\")\n",
    "\n",
    "fig, ax = plt.subplots()\n",
    "\n",
    "def update(w = 0):\n",
    "    ax.imshow(cube.data3D[w])\n",
    "    plt.show()\n",
    "    \n",
    "interact(update, w=widgets.IntSlider(min=0, max=119, step=1, value=70))"
   ]
  },
  {
   "cell_type": "code",
   "execution_count": 7,
   "id": "138a6c4c-9aed-4aa1-b6d5-08457798fa86",
   "metadata": {},
   "outputs": [
    {
     "data": {
      "application/vnd.jupyter.widget-view+json": {
       "model_id": "19d492f1d1704119817c4f6524333c3d",
       "version_major": 2,
       "version_minor": 0
      },
      "image/png": "[encoded data removed]",
      "text/html": [
       "\n",
       "            <div style=\"display: inline-block;\">\n",
       "                <div class=\"jupyter-widgets widget-label\" style=\"text-align: center;\">\n",
       "                    Figure\n",
       "                </div>\n",
       "                <img src='data:image/png;base64,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' width=200.0/>\n",
       "            </div>\n",
       "        "
      ],
      "text/plain": [
       "Canvas(toolbar=Toolbar(toolitems=[('Home', 'Reset original view', 'home', 'home'), ('Back', 'Back to previous …"
      ]
     },
     "metadata": {},
     "output_type": "display_data"
    },
    {
     "data": {
      "application/vnd.jupyter.widget-view+json": {
       "model_id": "ed4ba9559e6940dcbeece5236ff18a86",
       "version_major": 2,
       "version_minor": 0
      },
      "text/plain": [
       "interactive(children=(FloatSlider(value=1.0, description='A', max=4.0, min=-4.0), FloatSlider(value=0.0, descr…"
      ]
     },
     "metadata": {},
     "output_type": "display_data"
    }
   ],
   "source": [
    "%matplotlib widget\n",
    "from ipywidgets import *\n",
    "import numpy as np\n",
    "import matplotlib.pyplot as plt\n",
    "\n",
    "x = np.linspace(-10, 10,100)\n",
    "\n",
    "def f(x, A, B, C):\n",
    "    return A*x**2 + B*x + C\n",
    "\n",
    "fig = plt.figure()\n",
    "ax = fig.add_subplot(1, 1, 1)\n",
    "line, = ax.plot(x, f(x, A=1, B=1, C=1))\n",
    "\n",
    "def update(A = 1, B = 0, C = 0):\n",
    "    line.set_ydata(f(x,A,B,C))\n",
    "    fig.canvas.draw_idle()\n",
    "    \n",
    "plt.show()\n",
    "interact(update, A = (-4,4,0.1), B = (-4,4,0.1), C = (-4,4,0.1));"
   ]
  },
  {
   "cell_type": "code",
   "execution_count": 3,
   "id": "e7dbd541-88d0-4c5a-bd7a-d989c20e73e9",
   "metadata": {},
   "outputs": [
    {
     "data": {
      "application/vnd.jupyter.widget-view+json": {
       "model_id": "7f057a0aa0994c3b812d10828ba05d25",
       "version_major": 2,
       "version_minor": 0
      },
      "text/plain": [
       "interactive(children=(FloatSlider(value=0.0, description='x', max=10.0, step=0.05), FloatSlider(value=5.0, des…"
      ]
     },
     "metadata": {},
     "output_type": "display_data"
    }
   ],
   "source": [
    "x_widget = FloatSlider(min=0.0, max=10.0, step=0.05)\n",
    "y_widget = FloatSlider(min=0.5, max=10.0, step=0.05, value=5.0)\n",
    "\n",
    "def update_x_range(*args):\n",
    "    x_widget.max = 2.0 * y_widget.value\n",
    "y_widget.observe(update_x_range, 'value')\n",
    "\n",
    "def printer(x, y):\n",
    "    print(x, y)\n",
    "interact(printer,x=x_widget, y=y_widget);"
   ]
  },
  {
   "cell_type": "code",
   "execution_count": 4,
   "id": "79ac399a-c76d-46ce-a853-eeac8947bdb5",
   "metadata": {},
   "outputs": [
    {
     "data": {
      "application/vnd.jupyter.widget-view+json": {
       "model_id": "8d252d6f80e5431881d54a699bad1b17",
       "version_major": 2,
       "version_minor": 0
      },
      "text/plain": [
       "interactive(children=(FloatSlider(value=0.0, description='m', max=2.0, min=-2.0), FloatSlider(value=0.0, descr…"
      ]
     },
     "execution_count": 4,
     "metadata": {},
     "output_type": "execute_result"
    }
   ],
   "source": [
    "%matplotlib inline\n",
    "from ipywidgets import interactive\n",
    "import matplotlib.pyplot as plt\n",
    "import numpy as np\n",
    "\n",
    "def f(m, b):\n",
    "    plt.figure(2)\n",
    "    x = np.linspace(-10, 10, num=1000)\n",
    "    plt.plot(x, m * x + b)\n",
    "    plt.ylim(-5, 5)\n",
    "    plt.show()\n",
    "\n",
    "interactive_plot = interactive(f, m=(-2.0, 2.0), b=(-3, 3, 0.5))\n",
    "output = interactive_plot.children[-1]\n",
    "output.layout.height = '350px'\n",
    "interactive_plot"
   ]
  },
  {
   "cell_type": "code",
   "execution_count": null,
   "id": "77bf6550-d68e-40e6-8831-99cf855afb83",
   "metadata": {},
   "outputs": [],
   "source": []
  }
 ],
 "metadata": {
  "kernelspec": {
   "display_name": "Python 3 (ipykernel)",
   "language": "python",
   "name": "python3"
  },
  "language_info": {
   "codemirror_mode": {
    "name": "ipython",
    "version": 3
   },
   "file_extension": ".py",
   "mimetype": "text/x-python",
   "name": "python",
   "nbconvert_exporter": "python",
   "pygments_lexer": "ipython3",
   "version": "3.12.2"
  }
 },
 "nbformat": 4,
 "nbformat_minor": 5
}
