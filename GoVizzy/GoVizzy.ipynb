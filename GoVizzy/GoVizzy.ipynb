{
 "cells": [
  {
   "cell_type": "markdown",
   "id": "5c37196d-992b-419b-b816-16b946be36c2",
   "metadata": {},
   "source": [
    "<details>\n",
    "<summary>About GoVizzy</summary>\n",
    "<center>\n",
    "    <br/><br/>\n",
    "    This project was created for a<br/><br/>\n",
    "    Boise State University<br/>\n",
    "    Computer Science Senior Design Project<br/><br/>by\n",
    "    <div>Digno Teogalbo</div>\n",
    "    <div>Brayden Thompson</div>\n",
    "    <div>Rylie Walsh</div>\n",
    "    <div>Matthew Oberg</div>\n",
    "    <br/>For information about sponsoring a project go to<br/>\n",
    "    <a href=\"https://www.boisestate.edu/coen-cs/community/cs481-senior-design-project/\">https://www.boisestate.edu/coen-cs/community/cs481-senior-design-project/</a><br/>\n",
    "    <img src=\"gv_ui/sdp-logo.png\" alt=\"senior design project logo\" width=\"20%\" height=\"20%\">\n",
    "</center>\n",
    "</details>"
   ]
  },
  {
   "cell_type": "code",
   "execution_count": 1,
   "id": "c31b2aca",
   "metadata": {},
   "outputs": [
    {
     "data": {
      "application/vnd.jupyter.widget-view+json": {
       "model_id": "2316a3a6b5a74ab4aace4f1531050216",
       "version_major": 2,
       "version_minor": 0
      },
      "text/plain": [
       "AppLayout(children=(HBox(children=(Output(layout=Layout(height='100%', width='70%')), VBox(children=(HBox(chil…"
      ]
     },
     "metadata": {},
     "output_type": "display_data"
    },
    {
     "data": {
      "application/vnd.jupyter.widget-view+json": {
       "model_id": "7fa924e412da4efdbf04b3249382e819",
       "version_major": 2,
       "version_minor": 0
      },
      "text/plain": [
       "HBox(children=(Text(value='', description='File Name:'), Button(description='Submit', style=ButtonStyle())), l…"
      ]
     },
     "metadata": {},
     "output_type": "display_data"
    }
   ],
   "source": [
    "%run Main.py\n"
   ]
  },
  {
   "cell_type": "code",
   "execution_count": 3,
   "id": "c75f164c-2d9f-44b9-8875-82d7f34a7d4e",
   "metadata": {
    "scrolled": true
   },
   "outputs": [
    {
     "data": {
      "application/vnd.jupyter.widget-view+json": {
       "model_id": "e97f76d7470b4a88b800aa73b1967606",
       "version_major": 2,
       "version_minor": 0
      },
      "text/plain": [
       "Container(figure=Figure(box_center=[0.5, 0.5, 0.5], box_size=[1.0, 1.0, 1.0], camera=PerspectiveCamera(fov=45.…"
      ]
     },
     "metadata": {},
     "output_type": "display_data"
    }
   ],
   "source": [
    "from gv_ui import meshes\n",
    "import cube_viskit as cv\n",
    "import ipyvolume as ipv\n",
    "import numpy as np\n",
    "from ase.units import Bohr \n",
    "from cube_viskit import Cube\n",
    "ipv.figure()\n",
    "ipv.show()\n",
    "meshes.plot_atoms(cube)\n",
    "meshes.plot_bonds(cube)"
   ]
  }
 ],
 "metadata": {
  "kernelspec": {
   "display_name": "Python 3 (ipykernel)",
   "language": "python",
   "name": "python3"
  },
  "language_info": {
   "codemirror_mode": {
    "name": "ipython",
    "version": 3
   },
   "file_extension": ".py",
   "mimetype": "text/x-python",
   "name": "python",
   "nbconvert_exporter": "python",
   "pygments_lexer": "ipython3",
   "version": "3.12.2"
  }
 },
 "nbformat": 4,
 "nbformat_minor": 5
}
