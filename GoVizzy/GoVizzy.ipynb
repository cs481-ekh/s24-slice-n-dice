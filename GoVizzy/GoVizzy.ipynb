{
 "cells": [
  {
   "cell_type": "code",
   "execution_count": 9,
   "id": "09026008-ce47-49d7-9fca-4b7c123022d1",
   "metadata": {},
   "outputs": [],
   "source": [
    "from widgets import form, test_slider\n",
    "from GoVizzy import plotting\n",
    "import fileInput\n",
    "import ipyvolume as ipv\n",
    "import numpy as np\n",
    "from cube_viskit import Cube"
   ]
  },
  {
   "cell_type": "code",
   "execution_count": 10,
   "id": "ef52d91c-9d81-41db-953b-78f7ef718f24",
   "metadata": {},
   "outputs": [
    {
     "name": "stdout",
     "output_type": "stream",
     "text": [
      "Loading data/rhopol.cube ...\n",
      "Done.\n"
     ]
    },
    {
     "ename": "NameError",
     "evalue": "name 'plotting' is not defined",
     "output_type": "error",
     "traceback": [
      "\u001b[0;31m---------------------------------------------------------------------------\u001b[0m",
      "\u001b[0;31mNameError\u001b[0m                                 Traceback (most recent call last)",
      "Cell \u001b[0;32mIn[10], line 3\u001b[0m\n\u001b[1;32m      1\u001b[0m cube: Cube \u001b[38;5;241m=\u001b[39m Cube()\n\u001b[1;32m      2\u001b[0m cube\u001b[38;5;241m.\u001b[39mload_cube(\u001b[38;5;124m\"\u001b[39m\u001b[38;5;124mdata/rhopol.cube\u001b[39m\u001b[38;5;124m\"\u001b[39m)\n\u001b[0;32m----> 3\u001b[0m visualizer \u001b[38;5;241m=\u001b[39m \u001b[43mplotting\u001b[49m\u001b[38;5;241m.\u001b[39mVisualizer(cube)\n\u001b[1;32m      4\u001b[0m visualizer\u001b[38;5;241m.\u001b[39mdisplay_cell_data()\n",
      "\u001b[0;31mNameError\u001b[0m: name 'plotting' is not defined"
     ]
    }
   ],
   "source": [
    "cube: Cube = Cube()\n",
    "cube.load_cube(\"data/rhopol.cube\")\n",
    "visualizer = plotting.Visualizer(cube)\n",
    "visualizer.display_cell_data()"
   ]
  },
  {
   "cell_type": "code",
   "execution_count": 12,
   "id": "8b9789df",
   "metadata": {},
   "outputs": [
    {
     "data": {
      "application/vnd.jupyter.widget-view+json": {
       "model_id": "55ce3bd73d584814929063685ba6bef1",
       "version_major": 2,
       "version_minor": 0
      },
      "text/plain": [
       "Box(children=(Box(children=(Label(value='Path to .cube file'), Textarea(value='')), layout=Layout(display='fle…"
      ]
     },
     "execution_count": 12,
     "metadata": {},
     "output_type": "execute_result"
    }
   ],
   "source": [
    "form"
   ]
  },
  {
   "cell_type": "code",
   "execution_count": 14,
   "id": "67faad66-2beb-4746-b0a4-21689ddc78d3",
   "metadata": {},
   "outputs": [
    {
     "data": {
      "text/plain": [
       "5.5"
      ]
     },
     "execution_count": 14,
     "metadata": {},
     "output_type": "execute_result"
    }
   ],
   "source": [
    "# When testing, we can manually set slider values in code\n",
    "test_slider.value = 5.5\n",
    "test_slider.value"
   ]
  },
  {
   "cell_type": "code",
   "execution_count": null,
   "id": "f95553a4-1e87-4e59-bc6c-42b19a551d78",
   "metadata": {},
   "outputs": [],
   "source": [
    "%run Main.py"
   ]
  },
  {
   "cell_type": "code",
   "execution_count": null,
   "id": "2bc65d31-424f-47eb-8b0a-9494a3d5f5e6",
   "metadata": {},
   "outputs": [],
   "source": []
  }
 ],
 "metadata": {
  "kernelspec": {
   "display_name": "Python 3 (ipykernel)",
   "language": "python",
   "name": "python3"
  },
  "language_info": {
   "codemirror_mode": {
    "name": "ipython",
    "version": 3
   },
   "file_extension": ".py",
   "mimetype": "text/x-python",
   "name": "python",
   "nbconvert_exporter": "python",
   "pygments_lexer": "ipython3",
   "version": "3.10.13"
  }
 },
 "nbformat": 4,
 "nbformat_minor": 5
}
