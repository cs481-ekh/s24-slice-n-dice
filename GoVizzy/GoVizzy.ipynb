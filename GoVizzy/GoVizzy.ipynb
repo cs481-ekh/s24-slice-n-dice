{
 "cells": [
  {
   "cell_type": "markdown",
   "id": "5c37196d-992b-419b-b816-16b946be36c2",
   "metadata": {},
   "source": [
    "<details>\n",
    "<summary>About GoVizzy</summary>\n",
    "<center>\n",
    "    <br/><br/>\n",
    "    This project was created for a<br/><br/>\n",
    "    Boise State University<br/>\n",
    "    Computer Science Senior Design Project<br/><br/>by\n",
    "    <div>Digno Teogalbo</div>\n",
    "    <div>Brayden Thompson</div>\n",
    "    <div>Rylie Walsh</div>\n",
    "    <div>Matthew Oberg</div>\n",
    "    <br/>For information about sponsoring a project go to<br/>\n",
    "    <a href=\"https://www.boisestate.edu/coen-cs/community/cs481-senior-design-project/\">https://www.boisestate.edu/coen-cs/community/cs481-senior-design-project/</a><br/>\n",
    "    <img src=\"gv_ui/sdp-logo.png\" alt=\"senior design project logo\" width=\"20%\" height=\"20%\">\n",
    "</center>\n",
    "</details>"
   ]
  },
  {
   "cell_type": "code",
   "execution_count": 1,
   "id": "c31b2aca",
   "metadata": {},
   "outputs": [
    {
     "data": {
      "application/vnd.jupyter.widget-view+json": {
       "model_id": "6986d7d6e94f493e85d3f3982008c05c",
       "version_major": 2,
       "version_minor": 0
      },
      "text/plain": [
       "AppLayout(children=(HBox(children=(Output(layout=Layout(height='100%', width='70%')), VBox(children=(HBox(chil…"
      ]
     },
     "metadata": {},
     "output_type": "display_data"
    },
    {
     "data": {
      "application/vnd.jupyter.widget-view+json": {
       "model_id": "7bfd1d77cd1f49548b40e693ad103f2e",
       "version_major": 2,
       "version_minor": 0
      },
      "text/plain": [
       "HBox(children=(Text(value='', description='File Name:'), Button(description='Submit', style=ButtonStyle())), l…"
      ]
     },
     "metadata": {},
     "output_type": "display_data"
    }
   ],
   "source": [
    "%run Main.py\n"
   ]
  },
  {
   "cell_type": "code",
   "execution_count": 1,
   "id": "c75f164c-2d9f-44b9-8875-82d7f34a7d4e",
   "metadata": {
    "scrolled": true
   },
   "outputs": [
    {
     "name": "stdout",
     "output_type": "stream",
     "text": [
      "Imageio: 'stent.npz' was not found on your computer; downloading it now.\n",
      "Try 1. Download from https://github.com/imageio/imageio-binaries/raw/master/images/stent.npz (805 kB)\n",
      "Downloading: 8192/824612 bytes (1.0360448/824612 bytes (43.7%824612/824612 bytes (100.0%)\n",
      "  Done\n",
      "File saved as /home/brady/.imageio/images/stent.npz.\n"
     ]
    },
    {
     "data": {
      "text/html": [
       "\n",
       "        <iframe\n",
       "            width=\"100%\"\n",
       "            height=\"650\"\n",
       "            src=\"http://127.0.0.1:8050/\"\n",
       "            frameborder=\"0\"\n",
       "            allowfullscreen\n",
       "            \n",
       "        ></iframe>\n",
       "        "
      ],
      "text/plain": [
       "<IPython.lib.display.IFrame at 0x7f933b4677a0>"
      ]
     },
     "metadata": {},
     "output_type": "display_data"
    }
   ],
   "source": [
    "from dash import Dash, html\n",
    "import imageio\n",
    "from dash_slicer import VolumeSlicer\n",
    "\n",
    "\n",
    "app = Dash(__name__, update_title=None)\n",
    "\n",
    "vol = imageio.volread(\"imageio:stent.npz\")\n",
    "slicer = VolumeSlicer(app, vol)\n",
    "slicer.graph.config[\"scrollZoom\"] = False\n",
    "\n",
    "app.layout = html.Div([slicer.graph, slicer.slider, *slicer.stores])\n",
    "\n",
    "\n",
    "if __name__ == \"__main__\":\n",
    "    app.run(debug=True, dev_tools_props_check=False)\n",
    "    "
   ]
  },
  {
   "cell_type": "code",
   "execution_count": null,
   "id": "9119ed17-151d-4fc8-8aee-d79f7cd4bbd7",
   "metadata": {},
   "outputs": [],
   "source": []
  }
 ],
 "metadata": {
  "kernelspec": {
   "display_name": "Python 3 (ipykernel)",
   "language": "python",
   "name": "python3"
  },
  "language_info": {
   "codemirror_mode": {
    "name": "ipython",
    "version": 3
   },
   "file_extension": ".py",
   "mimetype": "text/x-python",
   "name": "python",
   "nbconvert_exporter": "python",
   "pygments_lexer": "ipython3",
   "version": "3.12.2"
  }
 },
 "nbformat": 4,
 "nbformat_minor": 5
}
