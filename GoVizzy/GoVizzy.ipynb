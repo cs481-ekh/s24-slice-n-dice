{
 "cells": [
  {
   "cell_type": "code",
   "execution_count": 3,
   "id": "09026008-ce47-49d7-9fca-4b7c123022d1",
   "metadata": {},
   "outputs": [],
   "source": [
    "from widgets import form, test_slider\n",
    "from GoVizzy import plotting\n",
    "from UI import DisplayUI\n",
    "import fileInput\n",
    "import ipyvolume as ipv\n",
    "import numpy as np\n",
    "from cube_viskit import Cube"
   ]
  },
  {
   "cell_type": "code",
   "execution_count": 7,
   "id": "67faad66-2beb-4746-b0a4-21689ddc78d3",
   "metadata": {},
   "outputs": [
    {
     "data": {
      "text/plain": [
       "5.5"
      ]
     },
     "execution_count": 7,
     "metadata": {},
     "output_type": "execute_result"
    }
   ],
   "source": [
    "# When testing, we can manually set slider values in code\n",
    "test_slider.value = 5.5\n",
    "test_slider.value"
   ]
  },
  {
   "cell_type": "code",
   "execution_count": 1,
   "id": "6ecc6672-d88e-4009-a6b7-013d7b1f1753",
   "metadata": {},
   "outputs": [
    {
     "data": {
      "application/vnd.jupyter.widget-view+json": {
       "model_id": "8016bbc0bdde451eaf66d4fc1d11912b",
       "version_major": 2,
       "version_minor": 0
      },
      "text/plain": [
       "AppLayout(children=(HBox(children=(Button(button_style='danger', description='[X]', layout=Layout(margin='0 0 …"
      ]
     },
     "metadata": {},
     "output_type": "display_data"
    },
    {
     "data": {
      "application/vnd.jupyter.widget-view+json": {
       "model_id": "4ff5fd806ff5473890d8b2b6b532270e",
       "version_major": 2,
       "version_minor": 0
      },
      "text/plain": [
       "HBox(children=(Text(value='', description='File Name:'), Button(description='Submit', style=ButtonStyle())))"
      ]
     },
     "metadata": {},
     "output_type": "display_data"
    }
   ],
   "source": [
    "\n",
    "%run Main.py\n"
   ]
  },
  {
   "cell_type": "code",
   "execution_count": null,
   "id": "863d988e-36c3-463b-9b3f-d68e27ceb757",
   "metadata": {},
   "outputs": [],
   "source": []
  }
 ],
 "metadata": {
  "kernelspec": {
   "display_name": "Python 3 (ipykernel)",
   "language": "python",
   "name": "python3"
  },
  "language_info": {
   "codemirror_mode": {
    "name": "ipython",
    "version": 3
   },
   "file_extension": ".py",
   "mimetype": "text/x-python",
   "name": "python",
   "nbconvert_exporter": "python",
   "pygments_lexer": "ipython3",
   "version": "3.10.13"
  }
 },
 "nbformat": 4,
 "nbformat_minor": 5
}
