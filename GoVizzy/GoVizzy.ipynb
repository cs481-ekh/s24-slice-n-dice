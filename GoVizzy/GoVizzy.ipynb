{
 "cells": [
  {
   "cell_type": "markdown",
   "id": "5c37196d-992b-419b-b816-16b946be36c2",
   "metadata": {},
   "source": [
    "<details>\n",
    "<summary>About GoVizzy</summary>\n",
    "<center>\n",
    "    <br/><br/>\n",
    "    This project was created for a<br/><br/>\n",
    "    Boise State University<br/>\n",
    "    Computer Science Senior Design Project<br/><br/>by\n",
    "    <div>Digno Teogalbo</div>\n",
    "    <div>Brayden Thompson</div>\n",
    "    <div>Rylie Walsh</div>\n",
    "    <div>Matthew Oberg</div>\n",
    "    <br/>For information about sponsoring a project go to<br/>\n",
    "    <a href=\"https://www.boisestate.edu/coen-cs/community/cs481-senior-design-project/\">https://www.boisestate.edu/coen-cs/community/cs481-senior-design-project/</a><br/>\n",
    "    <img src=\"gv_ui/sdp-logo.png\" alt=\"senior design project logo\" width=\"20%\" height=\"20%\">\n",
    "</center>\n",
    "</details>"
   ]
  },
  {
   "cell_type": "code",
   "execution_count": 1,
   "id": "c31b2aca",
   "metadata": {},
   "outputs": [
    {
     "data": {
      "application/vnd.jupyter.widget-view+json": {
       "model_id": "2fb74a94ba3745d1bfb0ee53da9b3491",
       "version_major": 2,
       "version_minor": 0
      },
      "text/plain": [
       "AppLayout(children=(HBox(children=(Output(layout=Layout(height='100%', width='70%')), VBox(children=(HBox(chil…"
      ]
     },
     "metadata": {},
     "output_type": "display_data"
    },
    {
     "data": {
      "application/vnd.jupyter.widget-view+json": {
       "model_id": "1f2f96a8d43e4a019e6e7f909563667e",
       "version_major": 2,
       "version_minor": 0
      },
      "text/plain": [
       "HBox(children=(Text(value='', description='File Name:'), Button(description='Submit', style=ButtonStyle())), l…"
      ]
     },
     "metadata": {},
     "output_type": "display_data"
    }
   ],
   "source": [
    "%run Main.py\n"
   ]
  },
  {
   "cell_type": "raw",
   "id": "fecb88b3-701d-4fd9-9688-2641a0bbe71f",
   "metadata": {},
   "source": [
    "from gv_ui import meshes\n",
    "import cube_viskit as cv\n",
    "\n",
    "\n",
    "meshes.plot_bonds()"
   ]
  },
  {
   "cell_type": "code",
   "execution_count": 25,
   "id": "c75f164c-2d9f-44b9-8875-82d7f34a7d4e",
   "metadata": {},
   "outputs": [
    {
     "name": "stdout",
     "output_type": "stream",
     "text": [
      "Loading data/rhopol.cube ...\n",
      "Done.\n",
      "Atoms:  (1, 0)  Real Pos: \n",
      "[0.35568792 0.29691693 0.30427629]\n",
      "[0.31198173 0.31866459 0.30427629]\n",
      "Atoms:  (2, 0)  Real Pos: \n",
      "[0.27955566 0.28216583 0.30427629]\n",
      "[0.31198173 0.31866459 0.30427629]\n"
     ]
    }
   ],
   "source": [
    "from gv_ui import meshes\n",
    "import cube_viskit as cv\n",
    "\n",
    "new_cube = cv.Cube()\n",
    "new_cube.load_cube(\"data/rhopol.cube\")\n",
    "new_cube.get_bonds()\n",
    "\n",
    "meshes.plot_bonds(new_cube)"
   ]
  },
  {
   "cell_type": "code",
   "execution_count": null,
   "id": "968aa5e5-5b94-4b63-a0d5-9f7e89bee8f5",
   "metadata": {},
   "outputs": [],
   "source": []
  }
 ],
 "metadata": {
  "kernelspec": {
   "display_name": "Python 3 (ipykernel)",
   "language": "python",
   "name": "python3"
  },
  "language_info": {
   "codemirror_mode": {
    "name": "ipython",
    "version": 3
   },
   "file_extension": ".py",
   "mimetype": "text/x-python",
   "name": "python",
   "nbconvert_exporter": "python",
   "pygments_lexer": "ipython3",
   "version": "3.12.2"
  }
 },
 "nbformat": 4,
 "nbformat_minor": 5
}
