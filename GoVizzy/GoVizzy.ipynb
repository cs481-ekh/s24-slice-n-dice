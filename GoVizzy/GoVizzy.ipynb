{
 "cells": [
  {
   "cell_type": "markdown",
   "id": "5c37196d-992b-419b-b816-16b946be36c2",
   "metadata": {},
   "source": [
    "<details>\n",
    "<summary>About GoVizzy</summary>\n",
    "\n",
    "GoVizzy provides 3D visualizations of atoms and molecules from .cube files.\n",
    "\n",
    "You can find documentation for GoVizzy in the docs/ folder.\n",
    "\n",
    "GoVizzy was developed as a Computer Science Senior Design Project (SDP) at Boise State University.\n",
    "\n",
    "Authors:\n",
    " - Brayden Thompson\n",
    " - Digno Teogalbo\n",
    " - Matthew Oberg\n",
    " - Rylie Walsh\n",
    "</details>"
   ]
  },
  {
   "cell_type": "code",
   "execution_count": 16,
   "id": "09026008-ce47-49d7-9fca-4b7c123022d1",
   "metadata": {},
   "outputs": [],
   "source": [
    "from widgets import form, test_slider\n",
    "from GoVizzy import plotting\n",
    "from UI import DisplayUI\n",
    "import fileInput\n",
    "import ipyvolume as ipv\n",
    "import numpy as np\n",
    "from cube_viskit import Cube\n",
    "import ipywidgets as widgets"
   ]
  },
  {
   "cell_type": "code",
   "execution_count": 5,
   "id": "67faad66-2beb-4746-b0a4-21689ddc78d3",
   "metadata": {},
   "outputs": [
    {
     "data": {
      "application/vnd.jupyter.widget-view+json": {
       "model_id": "e4b35176cd3c4be5bd4d2cb94b0437f8",
       "version_major": 2,
       "version_minor": 0
      },
      "text/plain": [
       "HBox(children=(Text(value='', description='File Name:'), Button(description='Submit', style=ButtonStyle())))"
      ]
     },
     "metadata": {},
     "output_type": "display_data"
    }
   ],
   "source": [
    "\n",
    "%run Main.py\n"
   ]
  },
  {
   "cell_type": "code",
   "execution_count": 6,
   "id": "ef52d91c-9d81-41db-953b-78f7ef718f24",
   "metadata": {},
   "outputs": [
    {
     "name": "stdout",
     "output_type": "stream",
     "text": [
      "Loading data/rhopol.cube ...\n",
      "Done.\n"
     ]
    },
    {
     "data": {
      "application/vnd.jupyter.widget-view+json": {
       "model_id": "332c0a197b5d4d3888e7090dae38672a",
       "version_major": 2,
       "version_minor": 0
      },
      "text/plain": [
       "Container(children=[VBox(children=(HBox(children=(Label(value='levels:'), FloatSlider(value=0.03, max=1.0, ste…"
      ]
     },
     "metadata": {},
     "output_type": "display_data"
    }
   ],
   "source": [
    "# Load Cube File\n",
    "cube: Cube = Cube()\n",
    "cube.load_cube(\"data/rhopol.cube\")\n",
    "visualizer = plotting.Visualizer(cube)"
   ]
  },
  {
   "cell_type": "code",
   "execution_count": 5,
   "id": "863d988e-36c3-463b-9b3f-d68e27ceb757",
   "metadata": {},
   "outputs": [
    {
     "data": {
      "application/vnd.jupyter.widget-view+json": {
       "model_id": "f94b60c35db048e3aea8cc7d730b7a4e",
       "version_major": 2,
       "version_minor": 0
      },
      "text/plain": [
       "Box(children=(Box(children=(Label(value='Path to .cube file'), Textarea(value='')), layout=Layout(display='fle…"
      ]
     },
     "execution_count": 5,
     "metadata": {},
     "output_type": "execute_result"
    }
   ],
   "source": [
    "form"
   ]
  },
  {
   "cell_type": "code",
   "execution_count": 10,
   "id": "2cc4ec86-2666-442f-a30b-7727d2a2ad9a",
   "metadata": {},
   "outputs": [
    {
     "data": {
      "application/vnd.jupyter.widget-view+json": {
       "model_id": "998610913a6b47e88ecbf88095cf5755",
       "version_major": 2,
       "version_minor": 0
      },
      "text/plain": [
       "Container(children=[VBox(children=(HBox(children=(Label(value='levels:'), FloatSlider(value=0.03, max=1.0, ste…"
      ]
     },
     "metadata": {},
     "output_type": "display_data"
    }
   ],
   "source": [
    "ipv.figure()\n",
    "transfer = ipv.pylab.transfer_function(level=[0.03, 0.5, 0.47], opacity=[0.05, 0.09, 0.1], level_width=0.1, controls=True)\n",
    "ipv.pylab.volshow(cube.data3D, ambient_coefficient=0.8, lighting=True, tf=transfer, controls=True)\n",
    "ipv.show()"
   ]
  },
  {
   "cell_type": "code",
   "execution_count": 26,
   "id": "b86c3388-77b9-42f4-abf6-af22aaa3caee",
   "metadata": {},
   "outputs": [
    {
     "data": {
      "application/vnd.jupyter.widget-view+json": {
       "model_id": "c5b04426361541189f0121f718607226",
       "version_major": 2,
       "version_minor": 0
      },
      "text/plain": [
       "Container(children=[VBox(children=(HBox(children=(Label(value='levels:'), FloatSlider(value=0.03, max=1.0, ste…"
      ]
     },
     "metadata": {},
     "output_type": "display_data"
    }
   ],
   "source": [
    "fig = ipv.figure()\n",
    "transfer = ipv.pylab.transfer_function(level=[0.03, 0.5, 0.47], opacity=[0.05, 0.09, 0.1], level_width=0.1, controls=True)\n",
    "#ipv.style.background_color(color.value)\n",
    "volume = ipv.pylab.volshow(cube.data3D, ambient_coefficient=0.8, lighting=True, tf=transfer, controls=True)\n",
    "\n",
    "slice_x = ipv.plot_plane('x', volume=volume, description=\"Slice X\", description_color=\"black\", icon=\"mdi-knife\")\n",
    "slice_y = ipv.plot_plane('y', volume=volume, description=\"Slice Y\", description_color=\"black\", icon=\"mdi-knife\")\n",
    "slice_z = ipv.plot_plane('z', volume=volume, description=\"Slice Z\", description_color=\"black\", icon=\"mdi-knife\",\n",
    "                         visible=False)\n",
    "\n",
    "widgets.jslink((fig, 'slice_x'), (slice_x, 'x_offset'))\n",
    "widgets.jslink((fig, 'slice_y'), (slice_y, 'y_offset'))\n",
    "widgets.jslink((fig, 'slice_z'), (slice_z, 'z_offset'));\n",
    "\n",
    "ipv.show()"
   ]
  },
  {
   "cell_type": "code",
   "execution_count": null,
   "id": "11d761d0-c1ff-4826-a707-6db4ef7b526d",
   "metadata": {},
   "outputs": [],
   "source": []
  }
 ],
 "metadata": {
  "kernelspec": {
   "display_name": "Python 3 (ipykernel)",
   "language": "python",
   "name": "python3"
  },
  "language_info": {
   "codemirror_mode": {
    "name": "ipython",
    "version": 3
   },
   "file_extension": ".py",
   "mimetype": "text/x-python",
   "name": "python",
   "nbconvert_exporter": "python",
   "pygments_lexer": "ipython3",
   "version": "3.12.2"
  }
 },
 "nbformat": 4,
 "nbformat_minor": 5
}
