{
 "cells": [
  {
   "cell_type": "markdown",
   "id": "5c37196d-992b-419b-b816-16b946be36c2",
   "metadata": {},
   "source": [
    "<details>\n",
    "<summary>About GoVizzy</summary>\n",
    "<center>\n",
    "    <br/><br/>\n",
    "    This project was created for a<br/><br/>\n",
    "    Boise State University<br/>\n",
    "    Computer Science Senior Design Project<br/><br/>by\n",
    "    <div>Digno Teogalbo</div>\n",
    "    <div>Brayden Thompson</div>\n",
    "    <div>Rylie Walsh</div>\n",
    "    <div>Matthew Oberg</div>\n",
    "    <br/>For information about sponsoring a project go to<br/>\n",
    "    <a href=\"https://www.boisestate.edu/coen-cs/community/cs481-senior-design-project/\">https://www.boisestate.edu/coen-cs/community/cs481-senior-design-project/</a><br/>\n",
    "    <img src=\"gv_ui/sdp-logo.png\" alt=\"senior design project logo\" width=\"20%\" height=\"20%\">\n",
    "</center>\n",
    "</details>"
   ]
  },
  {
   "cell_type": "code",
   "execution_count": 14,
   "id": "c31b2aca",
   "metadata": {},
   "outputs": [
    {
     "data": {
      "application/vnd.jupyter.widget-view+json": {
       "model_id": "62e24c60d9474401bef1535e9a8302de",
       "version_major": 2,
       "version_minor": 0
      },
      "text/plain": [
       "AppLayout(children=(HBox(children=(Output(layout=Layout(height='100%', width='70%')), VBox(children=(HBox(chil…"
      ]
     },
     "metadata": {},
     "output_type": "display_data"
    },
    {
     "data": {
      "application/vnd.jupyter.widget-view+json": {
       "model_id": "1dbf018a13d54187bf77b521040d8955",
       "version_major": 2,
       "version_minor": 0
      },
      "text/plain": [
       "HBox(children=(Text(value='', description='File Name:'), Button(description='Submit', style=ButtonStyle())), l…"
      ]
     },
     "metadata": {},
     "output_type": "display_data"
    }
   ],
   "source": [
    "%run Main.py\n"
   ]
  },
  {
   "cell_type": "code",
   "execution_count": 1,
   "id": "c75f164c-2d9f-44b9-8875-82d7f34a7d4e",
   "metadata": {
    "scrolled": true
   },
   "outputs": [
    {
     "name": "stdout",
     "output_type": "stream",
     "text": [
      "Loading data/rhopol.cube ...\n",
      "Done.\n"
     ]
    },
    {
     "data": {
      "image/png": "[encoded data removed]",
      "text/plain": [
       "<Figure size 200x200 with 1 Axes>"
      ]
     },
     "metadata": {},
     "output_type": "display_data"
    },
    {
     "data": {
      "application/vnd.jupyter.widget-view+json": {
       "model_id": "40a86f6d59534a63a0f47df1818c383e",
       "version_major": 2,
       "version_minor": 0
      },
      "text/plain": [
       "interactive(children=(IntSlider(value=70, description='w', max=119), Output()), _dom_classes=('widget-interact…"
      ]
     },
     "metadata": {},
     "output_type": "display_data"
    }
   ],
   "source": [
    "from ipywidgets import *\n",
    "import matplotlib.pyplot as plt\n",
    "import numpy as np\n",
    "import cube_viskit as cv\n",
    "\n",
    "\n",
    "plt.style.use('_mpl-gallery-nogrid')\n",
    "plt.ion\n",
    "\n",
    "cube = cv.Cube()\n",
    "cube.load_cube(\"data/rhopol.cube\")\n",
    "\n",
    "fig, ax = plt.subplots()\n",
    "\n",
    "def update(w = 70):\n",
    "    print(cube.data3D[w][0][0])\n",
    "    ax.imshow(cube.data3D[w])\n",
    "\n",
    "interact(update, w=widgets.IntSlider(min=0, max=119, step=1, value=70));"
   ]
  },
  {
   "cell_type": "code",
   "execution_count": null,
   "id": "e752b1e4-2cb7-4fd5-b01c-e5dfd870ccc2",
   "metadata": {},
   "outputs": [],
   "source": []
  },
  {
   "cell_type": "code",
   "execution_count": null,
   "id": "403c80a0-fc35-4b95-b4fb-1f35201d46f2",
   "metadata": {},
   "outputs": [],
   "source": []
  },
  {
   "cell_type": "code",
   "execution_count": null,
   "id": "ee43fce2-ee82-40f6-b7b8-028803e12b66",
   "metadata": {
    "scrolled": true
   },
   "outputs": [],
   "source": []
  },
  {
   "cell_type": "code",
   "execution_count": 22,
   "id": "fc1b146f-85db-48a2-80f7-f1faf69a2da7",
   "metadata": {},
   "outputs": [
    {
     "name": "stdout",
     "output_type": "stream",
     "text": [
      "Loading data/rhopol.cube ...\n",
      "Done.\n"
     ]
    },
    {
     "data": {
      "image/png": "[encoded data removed]",
      "text/plain": [
       "<Figure size 200x200 with 1 Axes>"
      ]
     },
     "metadata": {},
     "output_type": "display_data"
    },
    {
     "data": {
      "application/vnd.jupyter.widget-view+json": {
       "model_id": "b617bffa61104512a07d3812ab53a173",
       "version_major": 2,
       "version_minor": 0
      },
      "text/plain": [
       "interactive(children=(IntSlider(value=70, description='w', max=119), Output()), _dom_classes=('widget-interact…"
      ]
     },
     "metadata": {},
     "output_type": "display_data"
    }
   ],
   "source": []
  },
  {
   "cell_type": "code",
   "execution_count": null,
   "id": "1e005be8-72db-4448-91a5-0028ed0c3088",
   "metadata": {},
   "outputs": [],
   "source": []
  },
  {
   "cell_type": "code",
   "execution_count": null,
   "id": "0804bc6f-aeaa-4e25-af24-542d9f8f559d",
   "metadata": {},
   "outputs": [],
   "source": []
  },
  {
   "cell_type": "code",
   "execution_count": null,
   "id": "f63b0cb9-4269-48a9-8792-52b84c11765c",
   "metadata": {},
   "outputs": [],
   "source": []
  },
  {
   "cell_type": "code",
   "execution_count": null,
   "id": "138a6c4c-9aed-4aa1-b6d5-08457798fa86",
   "metadata": {},
   "outputs": [],
   "source": []
  }
 ],
 "metadata": {
  "kernelspec": {
   "display_name": "Python 3 (ipykernel)",
   "language": "python",
   "name": "python3"
  },
  "language_info": {
   "codemirror_mode": {
    "name": "ipython",
    "version": 3
   },
   "file_extension": ".py",
   "mimetype": "text/x-python",
   "name": "python",
   "nbconvert_exporter": "python",
   "pygments_lexer": "ipython3",
   "version": "3.12.2"
  }
 },
 "nbformat": 4,
 "nbformat_minor": 5
}
