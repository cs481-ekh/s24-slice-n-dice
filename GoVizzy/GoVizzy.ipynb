{
 "cells": [
  {
   "cell_type": "code",
   "execution_count": 5,
   "id": "09026008-ce47-49d7-9fca-4b7c123022d1",
   "metadata": {},
   "outputs": [],
   "source": [
    "from widgets import form, test_slider\n",
    "from GoVizzy import plotting\n",
    "import fileInput\n",
    "import ipyvolume as ipv\n",
    "import numpy as np\n",
    "from cube_viskit import Cube"
   ]
  },
  {
   "cell_type": "code",
   "execution_count": 7,
   "id": "67faad66-2beb-4746-b0a4-21689ddc78d3",
   "metadata": {},
   "outputs": [
    {
     "data": {
      "text/plain": [
       "5.5"
      ]
     },
     "execution_count": 7,
     "metadata": {},
     "output_type": "execute_result"
    }
   ],
   "source": [
    "# When testing, we can manually set slider values in code\n",
    "test_slider.value = 5.5\n",
    "test_slider.value"
   ]
  },
  {
   "cell_type": "code",
   "execution_count": 1,
   "id": "2bc65d31-424f-47eb-8b0a-9494a3d5f5e6",
   "metadata": {},
   "outputs": [
    {
     "data": {
      "application/vnd.jupyter.widget-view+json": {
       "model_id": "3f6fee4c7c51480283f5fc8edc639d47",
       "version_major": 2,
       "version_minor": 0
      },
      "text/plain": [
       "AppLayout(children=(Button(description='Slim Bar', layout=Layout(grid_area='footer', height='20px', width='50%…"
      ]
     },
     "metadata": {},
     "output_type": "display_data"
    },
    {
     "data": {
      "application/vnd.jupyter.widget-view+json": {
       "model_id": "b33b8c821e364b93bc0982cba6e6c22d",
       "version_major": 2,
       "version_minor": 0
      },
      "text/plain": [
       "VBox(children=(Text(value='', description='File Name:'), Button(description='Submit', style=ButtonStyle())))"
      ]
     },
     "metadata": {},
     "output_type": "display_data"
    }
   ],
   "source": [
    "%run Main.py"
   ]
  },
  {
   "cell_type": "code",
   "execution_count": null,
   "id": "0286d01a-4e47-4d8e-aa64-f9e78968be93",
   "metadata": {},
   "outputs": [],
   "source": []
  }
 ],
 "metadata": {
  "kernelspec": {
   "display_name": "Python 3 (ipykernel)",
   "language": "python",
   "name": "python3"
  },
  "language_info": {
   "codemirror_mode": {
    "name": "ipython",
    "version": 3
   },
   "file_extension": ".py",
   "mimetype": "text/x-python",
   "name": "python",
   "nbconvert_exporter": "python",
   "pygments_lexer": "ipython3",
   "version": "3.10.13"
  }
 },
 "nbformat": 4,
 "nbformat_minor": 5
}
